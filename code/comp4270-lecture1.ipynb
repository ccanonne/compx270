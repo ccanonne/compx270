{
 "cells": [
  {
   "cell_type": "code",
   "execution_count": 1,
   "id": "f2acbdbf",
   "metadata": {},
   "outputs": [],
   "source": [
    "import numpy as np\n",
    "import random # not very strong randomness. We don't care here.\n",
    "#import secrets\n",
    "import matplotlib.pyplot as plt"
   ]
  },
  {
   "cell_type": "code",
   "execution_count": 2,
   "id": "411aba8f",
   "metadata": {},
   "outputs": [],
   "source": [
    "deck = 13*['♤', '♡', '♢', '♧']"
   ]
  },
  {
   "cell_type": "code",
   "execution_count": 3,
   "id": "04970c8f",
   "metadata": {},
   "outputs": [
    {
     "name": "stdout",
     "output_type": "stream",
     "text": [
      "['♤', '♡', '♢', '♧', '♤', '♡', '♢', '♧', '♤', '♡', '♢', '♧', '♤', '♡', '♢', '♧', '♤', '♡', '♢', '♧', '♤', '♡', '♢', '♧', '♤', '♡', '♢', '♧', '♤', '♡', '♢', '♧', '♤', '♡', '♢', '♧', '♤', '♡', '♢', '♧', '♤', '♡', '♢', '♧', '♤', '♡', '♢', '♧', '♤', '♡', '♢', '♧']\n"
     ]
    }
   ],
   "source": [
    "print(deck)"
   ]
  },
  {
   "cell_type": "code",
   "execution_count": 4,
   "id": "5a974476",
   "metadata": {},
   "outputs": [
    {
     "name": "stdout",
     "output_type": "stream",
     "text": [
      "['♤', '♧', '♤', '♢', '♡', '♢', '♧', '♤', '♡', '♧', '♢', '♡', '♢', '♡', '♧', '♢', '♢', '♧', '♡', '♤', '♤', '♧', '♡', '♡', '♡', '♧', '♡', '♢', '♢', '♤', '♤', '♢', '♢', '♤', '♡', '♧', '♧', '♤', '♧', '♤', '♤', '♧', '♡', '♢', '♡', '♤', '♢', '♢', '♡', '♤', '♧', '♧']\n"
     ]
    }
   ],
   "source": [
    "shuffled_deck = random.sample(deck, len(deck));\n",
    "print(shuffled_deck)"
   ]
  },
  {
   "cell_type": "code",
   "execution_count": 13,
   "id": "160523d9",
   "metadata": {},
   "outputs": [
    {
     "name": "stdout",
     "output_type": "stream",
     "text": [
      "Empirical mean: 11.994380\n"
     ]
    }
   ],
   "source": [
    "consecutives = []\n",
    "for _ in range(50000):\n",
    "    shuffled_deck = random.sample(deck, len(deck));\n",
    "    consecutives += [np.sum([shuffled_deck[i] == shuffled_deck[i+1] for i in range(len(deck)-1)])]\n",
    "print(\"Empirical mean: %f\" % np.mean(consecutives))"
   ]
  },
  {
   "cell_type": "code",
   "execution_count": 6,
   "id": "9f843cf7",
   "metadata": {},
   "outputs": [
    {
     "data": {
      "image/png": "[encoded data removed]",
      "text/plain": [
       "<Figure size 640x480 with 1 Axes>"
      ]
     },
     "metadata": {},
     "output_type": "display_data"
    }
   ],
   "source": [
    "plt.hist(consecutives, density = True, bins=25, edgecolor='k');\n",
    "plt.axvline(np.mean(consecutives), color='r', linestyle='dashed', linewidth=2)\n",
    "plt.show()"
   ]
  },
  {
   "cell_type": "code",
   "execution_count": null,
   "id": "4c9b20c0",
   "metadata": {},
   "outputs": [],
   "source": []
  },
  {
   "cell_type": "code",
   "execution_count": null,
   "id": "e4bc0a68",
   "metadata": {},
   "outputs": [],
   "source": []
  }
 ],
 "metadata": {
  "kernelspec": {
   "display_name": "Python 3 (ipykernel)",
   "language": "python",
   "name": "python3"
  },
  "language_info": {
   "codemirror_mode": {
    "name": "ipython",
    "version": 3
   },
   "file_extension": ".py",
   "mimetype": "text/x-python",
   "name": "python",
   "nbconvert_exporter": "python",
   "pygments_lexer": "ipython3",
   "version": "3.10.12"
  }
 },
 "nbformat": 4,
 "nbformat_minor": 5
}
